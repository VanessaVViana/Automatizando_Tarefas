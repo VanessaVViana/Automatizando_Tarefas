{
 "cells": [
  {
   "cell_type": "code",
   "execution_count": 1,
   "id": "1d746fbf",
   "metadata": {},
   "outputs": [],
   "source": [
    "import time\n",
    "import pyautogui\n",
    "\n",
    "pyautogui.alert('Bom dia ❤️')\n",
    "pyautogui.alert('Espero que seu dia seja tão lindo quanto seu sorriso ❤️❤️❤️')\n",
    "pyautogui.alert('A automação irá começar. Tire as mãos do mouse e teclado até que ela finalize.')\n",
    "pyautogui.PAUSE = 0.5\n",
    "\n",
    "pyautogui.press('winleft')\n",
    "pyautogui.write('chrome')\n",
    "pyautogui.press('enter')\n",
    "pyautogui.press('enter')\n",
    "pyautogui.press('enter')\n",
    "pyautogui.press('enter')\n",
    "pyautogui.press('enter')\n",
    "\n",
    "pyautogui.alert()\n",
    "pyautogui.alert()"
   ]
  },
  {
   "cell_type": "code",
   "execution_count": null,
   "id": "0b45a97d",
   "metadata": {},
   "outputs": [],
   "source": []
  }
 ],
 "metadata": {
  "kernelspec": {
   "display_name": "Python 3",
   "language": "python",
   "name": "python3"
  },
  "language_info": {
   "codemirror_mode": {
    "name": "ipython",
    "version": 3
   },
   "file_extension": ".py",
   "mimetype": "text/x-python",
   "name": "python",
   "nbconvert_exporter": "python",
   "pygments_lexer": "ipython3",
   "version": "3.8.8"
  }
 },
 "nbformat": 4,
 "nbformat_minor": 5
}
