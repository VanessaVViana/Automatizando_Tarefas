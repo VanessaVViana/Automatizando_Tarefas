{
 "cells": [
  {
   "cell_type": "code",
   "execution_count": 1,
   "id": "1d746fbf",
   "metadata": {},
   "outputs": [
    {
     "data": {
      "text/plain": [
       "'OK'"
      ]
     },
     "execution_count": 1,
     "metadata": {},
     "output_type": "execute_result"
    }
   ],
   "source": [
    "import time\n",
    "import pyautogui\n",
    "\n",
    "pyautogui.alert('Bom dia! Espero que seu dia seja tão lindo quanto seu sorriso ❤️❤️❤️')\n",
    "pyautogui.alert('A automação irá começar. Tire as mãos do mouse e teclado até que ela finalize.')\n",
    "\n",
    "pyautogui.PAUSE = 1\n",
    "pyautogui.press('winleft')\n",
    "pyautogui.write('chrome')\n",
    "pyautogui.press('enter')\n",
    "pyautogui.write('https://outlook.office365.com/mail/inbox')\n",
    "pyautogui.press('enter')\n",
    "pyautogui.hotkey('ctrl', 't')\n",
    "pyautogui.write('https://mail.google.com/mail/u/0/#inbox')\n",
    "pyautogui.press('enter')\n",
    "pyautogui.hotkey('ctrl', 't')\n",
    "pyautogui.write('https://www.youtube.com/')\n",
    "pyautogui.press('enter')\n",
    "pyautogui.hotkey('ctrl', 't')\n",
    "pyautogui.write('https://www.linkedin.com/feed/')\n",
    "pyautogui.press('enter')\n",
    "pyautogui.hotkey('ctrl', 't')\n",
    "pyautogui.write('https://app.qase.io/project/VALIDN')\n",
    "pyautogui.press('enter')\n",
    "pyautogui.hotkey('ctrl', 't')\n",
    "pyautogui.write('https://github.com/')\n",
    "pyautogui.press('enter')\n",
    "time.sleep(5)\n",
    "\n",
    "pyautogui.alert('A automação acabou. Agora você já consegue iniciar suas atividades.')\n",
    "pyautogui.alert('Tenha um belíssimo dia ❤️❤️❤️')"
   ]
  },
  {
   "cell_type": "code",
   "execution_count": null,
   "id": "0b45a97d",
   "metadata": {},
   "outputs": [],
   "source": []
  }
 ],
 "metadata": {
  "kernelspec": {
   "display_name": "Python 3",
   "language": "python",
   "name": "python3"
  },
  "language_info": {
   "codemirror_mode": {
    "name": "ipython",
    "version": 3
   },
   "file_extension": ".py",
   "mimetype": "text/x-python",
   "name": "python",
   "nbconvert_exporter": "python",
   "pygments_lexer": "ipython3",
   "version": "3.8.8"
  }
 },
 "nbformat": 4,
 "nbformat_minor": 5
}
